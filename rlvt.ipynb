{
 "cells": [
  {
   "cell_type": "code",
   "execution_count": 5,
   "metadata": {
    "collapsed": true
   },
   "outputs": [],
   "source": [
    "import warnings\n",
    "warnings.filterwarnings('ignore')\n",
    "import pandas as pd\n",
    "import matplotlib.pyplot as plt\n",
    "plt.rcParams['font.sans-serif']=['SimHei'] #用来正常显示中文标签\n",
    "\n",
    "# import numpy as np\n",
    "import seaborn as sns\n",
    "sns.set_style('whitegrid',{'font.sans-serif':['simhei','Arial']})\n",
    "from scipy import stats\n",
    "from scipy.stats import norm\n",
    "# import statsmodels.api as sm\n",
    "# from sklearn.preprocessing import StandardScaler\n",
    "sns.set()\n",
    "plt.rcParams['font.sans-serif'] = ['SimHei']  # 中文字体设置-黑体\n",
    "plt.rcParams['axes.unicode_minus'] = False  # 解决保存图像是负号'-'显示为方块的问题\n",
    "sns.set(font='SimHei',font_scale=1.5)  # 解决Seaborn中文显示问题并调整字体大小\n",
    "%matplotlib  inline"
   ]
  },
  {
   "cell_type": "code",
   "execution_count": null,
   "outputs": [],
   "source": [
    "# df = pd.read_excel(\"../data/cbtc/csv/new/1.hcz2cq/train.xlsx\")\n",
    "df = pd.read_excel(\"./train.xlsx\")\n",
    "# m = df.iloc[:, 0:5]\n",
    "m = df.iloc[:, 0:3]\n",
    "# m.V1 /= 100\n",
    "# m.V2 /= 100\n",
    "# m.V3 /= 100\n",
    "m /= 100\n",
    "# m.列车加速度 /= 100\n",
    "m.head()"
   ],
   "metadata": {
    "collapsed": false,
    "pycharm": {
     "is_executing": true
    }
   }
  },
  {
   "cell_type": "code",
   "execution_count": null,
   "outputs": [],
   "source": [
    "corr_mat = m.corr()\n",
    "f, ax = plt.subplots(figsize=(5, 4))\n",
    "sns.heatmap(corr_mat, vmax=1.0, square=True, annot=True, fmt='.2f')\n",
    "f.get_figure().savefig(\"test.png\")"
   ],
   "metadata": {
    "collapsed": false,
    "pycharm": {
     "is_executing": true
    }
   }
  },
  {
   "cell_type": "code",
   "execution_count": null,
   "outputs": [],
   "source": [
    "sns.pairplot(m)"
   ],
   "metadata": {
    "collapsed": false,
    "pycharm": {
     "is_executing": true
    }
   }
  },
  {
   "cell_type": "code",
   "execution_count": null,
   "outputs": [],
   "source": [
    "# print(m.实际速度.describe())\n",
    "# print(m.speed.describe())\n",
    "# sns.distplot(m.speed)\n",
    "sns.distplot(m.实际速度)"
   ],
   "metadata": {
    "collapsed": false,
    "pycharm": {
     "is_executing": true
    }
   }
  },
  {
   "cell_type": "code",
   "execution_count": null,
   "outputs": [],
   "source": [
    "plt.figure(figsize=(16,8))\n",
    "plt.subplot(121)\n",
    "# sns.distplot(m['speed'], fit=norm)\n",
    "sns.distplot(m['实际速度'], fit=norm)\n",
    "plt.subplot(122)\n",
    "# res = stats.probplot(m['speed'], plot=plt)\n",
    "res = stats.probplot(m['实际速度'], plot=plt)"
   ],
   "metadata": {
    "collapsed": false,
    "pycharm": {
     "is_executing": true
    }
   }
  },
  {
   "cell_type": "code",
   "execution_count": null,
   "outputs": [],
   "source": [],
   "metadata": {
    "collapsed": false
   }
  }
 ],
 "metadata": {
  "kernelspec": {
   "display_name": "Python 3",
   "language": "python",
   "name": "python3"
  },
  "language_info": {
   "codemirror_mode": {
    "name": "ipython",
    "version": 2
   },
   "file_extension": ".py",
   "mimetype": "text/x-python",
   "name": "python",
   "nbconvert_exporter": "python",
   "pygments_lexer": "ipython2",
   "version": "2.7.6"
  }
 },
 "nbformat": 4,
 "nbformat_minor": 0
}
