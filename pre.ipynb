{
 "cells": [
  {
   "cell_type": "code",
   "execution_count": 1,
   "metadata": {
    "collapsed": true
   },
   "outputs": [],
   "source": [
    "# import os\n",
    "import openpyxl\n",
    "# import xlrd\n",
    "from openpyxl import load_workbook\n",
    "from openpyxl.chart import LineChart, Reference\n",
    "import os\n",
    "# import pandas as pd\n",
    "# import numpy as np\n",
    "import xlrd"
   ]
  },
  {
   "cell_type": "code",
   "execution_count": 2,
   "outputs": [],
   "source": [
    "# def del_sht(file):\n",
    "#     # sheet_name1 = 'Sheet2'\n",
    "#     # sheet_name2 = 'Sheet3'\n",
    "#\n",
    "#     # 载入工作簿\n",
    "#     workbook = openpyxl.load_workbook(file)\n",
    "#     print(workbook.sheetnames)\n",
    "#     # print(workbook)\n",
    "#     # # 删除目标Sheet\n",
    "#     worksheet1 = workbook[\"Sheet2\"]\n",
    "#     workbook.remove(worksheet1)\n",
    "#\n",
    "#     worksheet2 = workbook[\"Sheet3\"]\n",
    "#     workbook.remove(worksheet2)\n",
    "#\n",
    "#     # del workbook[sheet_name1, sheet_name2]\n",
    "#     # # 保存已做删除处理的工作簿\n",
    "#     workbook.save(file)"
   ],
   "metadata": {
    "collapsed": false
   }
  },
  {
   "cell_type": "code",
   "execution_count": 3,
   "outputs": [],
   "source": [
    "# function used to  preprocess original excel data\n",
    "def del_cols(file):\n",
    "    wb = load_workbook(file)\n",
    "    sh = wb.active\n",
    "\n",
    "    # delete some unused cols and add some cols and rows\n",
    "    sh.delete_cols(idx=1)\n",
    "    sh.delete_cols(idx=4, amount=2)\n",
    "    sh.delete_cols(idx=5, amount=11)\n",
    "    # sh.insert_rows(idx=1)\n",
    "    wb.save(file)\n",
    "\n",
    "    cells = sh['E']\n",
    "    for cell in cells:\n",
    "        if 1 <= cell.row < sh.max_row:\n",
    "            cell.value = 5 * (sh.cell(row=cell.row + 1, column=3).value - sh.cell(row=cell.row, column=3).value)\n",
    "    sh.cell(row=sh.max_row, column=5).value = sh.cell(row=sh.max_row - 1, column=5).value\n",
    "    wb.save(file)\n",
    "\n",
    "    sh.delete_cols(idx=6, amount=13)\n",
    "    wb.save(file)"
   ],
   "metadata": {
    "collapsed": false
   }
  },
  {
   "cell_type": "code",
   "execution_count": 4,
   "outputs": [],
   "source": [
    "# def get_info(fnm):\n",
    "#     data_excel = xlrd.open_workbook(fnm)\n",
    "#\n",
    "#     # 获取所有sheet名称\n",
    "#     names = data_excel.sheet_names()\n",
    "#\n",
    "#     # 获取book中的sheet工作表的三种方法,返回一个xlrd.sheet.Sheet()对象\n",
    "#     table = data_excel.sheet_by_name(sheet_name='Sheet1')  # 通过名称获取\n",
    "#\n",
    "#     n_rows = table.nrows  # 获取该sheet中的有效行数\n",
    "#     n_cols = table.ncols  # 获取该sheet中的有效列数\n",
    "#\n",
    "#     print(names, table, n_rows, n_cols)\n",
    "#     print(\"++++++++++++++++++++++++++\")"
   ],
   "metadata": {
    "collapsed": false
   }
  },
  {
   "cell_type": "code",
   "execution_count": 5,
   "outputs": [],
   "source": [
    "# function used to plot linechart\n",
    "def plt_figure(file):\n",
    "    wb = load_workbook(file)\n",
    "    ws = wb.active\n",
    "\n",
    "    chart = LineChart()\n",
    "    data = Reference(ws, min_col=1, min_row=1, max_col=3, max_row=ws.max_row)\n",
    "    chart.add_data(data, from_rows=False, titles_from_data=True)\n",
    "\n",
    "    chart.y_axis.title = 'Speed'\n",
    "    chart.x_axis.title = 'Time'\n",
    "    chart.title = 'Speed Time'\n",
    "    ws.add_chart(chart, 'I10')\n",
    "    wb.save(file)"
   ],
   "metadata": {
    "collapsed": false
   }
  },
  {
   "cell_type": "code",
   "execution_count": 35,
   "outputs": [],
   "source": [
    "# main\n",
    "path = 'E:\\Project\\kera\\data\\cbtc\\\\test\\\\13.xc2sjz'\n",
    "os.chdir(path)\n",
    "files = os.listdir(path)\n",
    "for excel in files:\n",
    "    # print(excel)\n",
    "    # del_sht(excel)\n",
    "    # del_cols(excel)\n",
    "    plt_figure(excel)\n",
    "    # get_info(excel)\n",
    "    # plt_figure(excel)"
   ],
   "metadata": {
    "collapsed": false
   }
  },
  {
   "cell_type": "code",
   "execution_count": null,
   "outputs": [],
   "source": [],
   "metadata": {
    "collapsed": false
   }
  }
 ],
 "metadata": {
  "kernelspec": {
   "display_name": "Python 3",
   "language": "python",
   "name": "python3"
  },
  "language_info": {
   "codemirror_mode": {
    "name": "ipython",
    "version": 2
   },
   "file_extension": ".py",
   "mimetype": "text/x-python",
   "name": "python",
   "nbconvert_exporter": "python",
   "pygments_lexer": "ipython2",
   "version": "2.7.6"
  }
 },
 "nbformat": 4,
 "nbformat_minor": 0
}
