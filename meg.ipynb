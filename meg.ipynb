{
 "cells": [
  {
   "cell_type": "code",
   "execution_count": 7,
   "metadata": {
    "collapsed": true
   },
   "outputs": [],
   "source": [
    "import os\n",
    "import pandas as pd\n",
    "import xlrd"
   ]
  },
  {
   "cell_type": "code",
   "execution_count": 32,
   "outputs": [],
   "source": [
    "# path = \"D:\\\\home\\\\Desktop\\\\new\"\n",
    "path = \"E:\\Project\\kera\\data\\cbtc\\\\train\\\\10.yzc2jg\"\n",
    "# output = \"D:\\\\home\\\\Desktop\\\\new\\\\all.xlsx\"\n",
    "output = \"E:\\Project\\kera\\data\\cbtc\\\\train\\\\10.yzc2jg\\\\train.xlsx\"\n",
    "filename_excel = []\n",
    "frames = []\n",
    "count = 0"
   ],
   "metadata": {
    "collapsed": false
   }
  },
  {
   "cell_type": "code",
   "execution_count": 33,
   "outputs": [],
   "source": [
    "for root, dirs, files in os.walk(path):\n",
    "    for file in files:\n",
    "        filename_excel.append(os.path.join(root, file))\n",
    "        # count += 1\n",
    "        # print(count)\n",
    "        # print(file)\n",
    "        data = xlrd.open_workbook(os.path.join(root, file))\n",
    "        # data = pd.open_workbook(os.path.join(root, file))\n",
    "        table = data.sheet_by_index(0)\n",
    "        onesheet = []\n",
    "        for rowNum in range(3, table.nrows):\n",
    "            rowVale = table.row_values(rowNum)\n",
    "            onesheet.append(rowVale)\n",
    "        data = pd.DataFrame(onesheet)\n",
    "\n",
    "        frames.append(data)"
   ],
   "metadata": {
    "collapsed": false
   }
  },
  {
   "cell_type": "code",
   "execution_count": null,
   "outputs": [],
   "source": [
    "# 打印文件名\n",
    "print(filename_excel)\n",
    "# 合并所有数据\n",
    "result = pd.concat(frames)\n",
    "# 查看合并后的数据\n",
    "result.head()\n",
    "# result.shape()\n",
    "\n",
    "result.to_excel(output)"
   ],
   "metadata": {
    "collapsed": false,
    "pycharm": {
     "is_executing": true
    }
   }
  },
  {
   "cell_type": "code",
   "execution_count": null,
   "outputs": [],
   "source": [],
   "metadata": {
    "collapsed": false
   }
  }
 ],
 "metadata": {
  "kernelspec": {
   "display_name": "Python 3",
   "language": "python",
   "name": "python3"
  },
  "language_info": {
   "codemirror_mode": {
    "name": "ipython",
    "version": 2
   },
   "file_extension": ".py",
   "mimetype": "text/x-python",
   "name": "python",
   "nbconvert_exporter": "python",
   "pygments_lexer": "ipython2",
   "version": "2.7.6"
  }
 },
 "nbformat": 4,
 "nbformat_minor": 0
}
